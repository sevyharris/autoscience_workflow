{
 "cells": [
  {
   "cell_type": "markdown",
   "id": "7e7b3238",
   "metadata": {},
   "source": [
    "# Kinetics from TST\n",
    "\n",
    "## Example for $O + H_2 \\rightleftharpoons H + OH$\n"
   ]
  },
  {
   "cell_type": "code",
   "execution_count": 1,
   "id": "2ff55b14",
   "metadata": {},
   "outputs": [],
   "source": [
    "import numpy as np\n",
    "import matplotlib.pyplot as plt\n",
    "import matplotlib\n",
    "%matplotlib inline\n",
    "\n",
    "\n",
    "import rmgpy.data.kinetics\n",
    "import rmgpy.reaction\n",
    "import rmgpy.quantity\n",
    "import rmgpy.constants\n",
    "\n",
    "import ase.units\n",
    "import ase.io.gaussian\n",
    "import ase.calculators.gaussian"
   ]
  },
  {
   "cell_type": "markdown",
   "id": "9c66f9dd",
   "metadata": {},
   "source": [
    "## Transition State Theory Kinetics\n",
    "\n",
    "$$k_{TST}=\\frac{k_BT}{h}\\cdot \\frac{Q^{TS}}{Q^{IS}}\\cdot e^{-\\frac{E_a}{k_BT}}$$\n",
    "\n",
    "\n",
    "The leaves $Q^{TS}$, $Q^{IS}$, and $E_a$ to be calculated\n",
    "\n",
    "\n",
    "1. Find IS and TS Geometries"
   ]
  },
  {
   "cell_type": "markdown",
   "id": "dc6b8b6a",
   "metadata": {},
   "source": [
    "### Calculate the Partition Functions\n",
    "\n",
    "$$Q^{IS}=q_{F}q_{H_2}$$\n",
    "\n",
    "\n",
    "#### Translation Partition Function\n",
    "$$q_{trans} = \\left(\\frac{2 \\pi \\sum_{atoms, i} m_i k T}{h^2} \\right)^{\\frac{3}{2}}V = \\left(\\frac{2 \\pi \\sum_{atoms, i} m_i k T}{h^2} \\right)^{\\frac{3}{2}} \\frac{NRT}{P}$$\n",
    "\n",
    "#### Rotation Partition Function\n",
    "Linear Molecules:\n",
    "$$q_{rot} = \\frac{T}{\\sigma \\Theta_r} \\quad$$\n",
    "\n",
    "Nonlinear Molecules:\n",
    "$$q_{rot} = \\frac{\\sqrt{\\pi}}{\\sigma} \\left( \\frac{T^3}{\\Theta_A\\Theta_B\\Theta_C}\\right)^{\\frac{1}{2}} \\quad$$\n",
    "\n",
    "#### Vibrational Partition Function\n",
    "$$q_{vib} = e^{-\\frac{\\frac{1}{2}\\sum_i{h\\nu_i}}{kT}} \\prod_{i=1}^{l} \\frac{1}{1-e^{-\\Theta_{v,i}/T}}$$\n"
   ]
  },
  {
   "cell_type": "code",
   "execution_count": 2,
   "id": "5c560a9d",
   "metadata": {},
   "outputs": [],
   "source": [
    "# Load Constants\n",
    "\n",
    "kb = ase.units._k\n",
    "MW_H = 1.00784\n",
    "MW_O = 15.999\n",
    "MW_OH = MW_O + MW_H\n",
    "MW_H2 = 2.0 * MW_H\n",
    "MW_HHO = 2.0 * MW_H + MW_O\n",
    "N_av = ase.units._Nav\n",
    "h = ase.units._hplanck\n",
    "mass_O = MW_O / N_av / 1000.0\n",
    "mass_H = MW_H / N_av / 1000.0\n",
    "mass_H2 = MW_H2 / N_av / 1000.0\n",
    "mass_OH = MW_OH / N_av / 1000.0\n",
    "mass_HHO = MW_HHO / N_av / 1000.0\n",
    "volume = 1.0  # m^3\n",
    "R = 8.31446261815324  # J/mol K\n",
    "\n",
    "c = 29979245800  # speed of light in cm/s"
   ]
  },
  {
   "cell_type": "code",
   "execution_count": 14,
   "id": "ec213daa",
   "metadata": {},
   "outputs": [],
   "source": [
    "T = np.linspace(300, 3000, 101)\n",
    "# T = 300"
   ]
  },
  {
   "cell_type": "code",
   "execution_count": null,
   "id": "9fb39354",
   "metadata": {},
   "outputs": [],
   "source": []
  },
  {
   "cell_type": "markdown",
   "id": "92620114",
   "metadata": {},
   "source": [
    "#### Partition Function of Oxygen Atom"
   ]
  },
  {
   "cell_type": "code",
   "execution_count": 15,
   "id": "33b0cfbf",
   "metadata": {},
   "outputs": [],
   "source": [
    "n = 1.0 / N_av  # convert from one molecule to units of mols\n",
    "P = 101325  # 1 atm for comparison with Guassian results\n",
    "V = n * R * T / P\n",
    "qO_trans = np.float_power(2.0 * np.pi * mass_O * kb * T / np.float_power(h, 2.0), 1.5) * V\n",
    "qO_elec = 3\n",
    "qO_rot = 1\n",
    "qO_vib = 1\n",
    "qO = qO_trans * qO_elec * qO_rot * qO_vib"
   ]
  },
  {
   "cell_type": "markdown",
   "id": "e4850448",
   "metadata": {},
   "source": [
    "#### Partition Function of H2\n",
    "\n",
    "Vib analysis from Gaussian yields 1 freq: 4394.01 cm^-1"
   ]
  },
  {
   "cell_type": "code",
   "execution_count": 16,
   "id": "7a60c105",
   "metadata": {},
   "outputs": [],
   "source": [
    "# Translation\n",
    "qH2_trans = np.float_power(2.0 * np.pi * mass_H2 * kb * T / np.float_power(h, 2.0), 1.5) * V\n",
    "\n",
    "# Rotation\n",
    "H2_log = \"/work/westgroup/harris.se/autoscience/autoscience_workflow/results/dft/thermo/species_0016/arkane/conformer_0000.log\"\n",
    "with open(H2_log, 'r') as f:\n",
    "    h2_atoms = ase.io.gaussian.read_gaussian_out(f)\n",
    "I = h2_atoms.get_moments_of_inertia()[-1]\n",
    "I /= (ase.units.kg * ase.units.m * ase.units.m)  # convert from amu*Angstroms^2 to kg*m^2\n",
    "rotational_temperature = np.float_power(h, 2.0) / (8.0 * np.pi * np.pi * I * kb)\n",
    "rotational_symmetry = 2.0\n",
    "qH2_rot = T / (rotational_symmetry * rotational_temperature)\n",
    "\n",
    "# Vibration\n",
    "# vib_freqs_per_cm = np.array([4394.01])  # cm ^ -1\n",
    "# freq_correction = 0.986  #b3lyp\n",
    "\n",
    "vib_freqs_per_cm = np.array([4467.0])  # cm ^ -1\n",
    "freq_correction = 0.982\n",
    "\n",
    "vib_freqs_per_cm *= freq_correction\n",
    "vib_freqs = c * vib_freqs_per_cm  # frequencies should be on the order of 10^12\n",
    "vib_temps = h * vib_freqs / kb  # matches Gaussian log\n",
    "E_zp = np.exp(-0.5 * h * np.sum(vib_freqs) / (kb * T))\n",
    "\n",
    "qH2_vib = E_zp\n",
    "qH2_vib = 1.0\n",
    "for i in range(0, len(vib_temps)):\n",
    "    qH2_vib = np.multiply(qH2_vib, 1.0 / (1.0 - np.exp(-vib_temps[i]/T)))\n",
    "\n",
    "\n",
    "qH2_elec = 1\n",
    "\n",
    "qH2 = qH2_trans * qH2_elec * qH2_rot * qH2_vib"
   ]
  },
  {
   "cell_type": "markdown",
   "id": "82f07d95",
   "metadata": {},
   "source": [
    "#### Partition Function of HHO"
   ]
  },
  {
   "cell_type": "code",
   "execution_count": 17,
   "id": "5e1ec0b9",
   "metadata": {},
   "outputs": [
    {
     "name": "stdout",
     "output_type": "stream",
     "text": [
      "[0.08834687 0.10053816 0.11324373 0.12644357 0.14011981 0.15425639\n",
      " 0.1688388  0.18385378 0.19928923 0.21513399 0.23137774 0.24801091\n",
      " 0.26502459 0.28241045 0.3001607  0.31826799 0.33672542 0.35552648\n",
      " 0.37466498 0.39413509 0.41393125 0.43404817 0.45448082 0.4752244\n",
      " 0.49627431 0.51762615 0.53927572 0.56121898 0.58345204 0.60597118\n",
      " 0.62877281 0.65185347 0.67520983 0.69883867 0.72273688 0.74690147\n",
      " 0.77132952 0.79601823 0.82096487 0.8461668  0.87162146 0.89732637\n",
      " 0.92327912 0.94947735 0.97591879 1.00260123 1.02952251 1.05668052\n",
      " 1.08407322 1.11169862 1.13955476 1.16763977 1.19595178 1.224489\n",
      " 1.25324965 1.28223201 1.31143441 1.34085519 1.37049275 1.40034552\n",
      " 1.43041194 1.46069053 1.49117978 1.52187828 1.55278458 1.58389732\n",
      " 1.61521512 1.64673666 1.67846062 1.71038573 1.74251071 1.77483435\n",
      " 1.80735541 1.84007272 1.8729851  1.90609139 1.93939049 1.97288126\n",
      " 2.00656263 2.04043351 2.07449287 2.10873964 2.14317283 2.17779142\n",
      " 2.21259443 2.24758088 2.28274981 2.3181003  2.3536314  2.3893422\n",
      " 2.42523181 2.46129933 2.4975439  2.53396466 2.57056075 2.60733134\n",
      " 2.6442756  2.68139273 2.71868192 2.75614238 2.79377333]\n",
      "[ 718.87301911 2273.19573344]\n"
     ]
    }
   ],
   "source": [
    "# Translation\n",
    "qHHO_trans = np.float_power(2.0 * np.pi * mass_HHO * kb * T / np.float_power(h, 2.0), 1.5) * V\n",
    "\n",
    "# Rotation\n",
    "HHO_log = \"/work/westgroup/harris.se/autoscience/autoscience_workflow/results/dft/kinetics/backup_reaction_0001/overall/fwd_ts_0000.log\"\n",
    "with open(HHO_log, 'r') as f:\n",
    "    hho_atoms = ase.io.gaussian.read_gaussian_out(f)\n",
    "I = hho_atoms.get_moments_of_inertia()\n",
    "I /= (ase.units.kg * ase.units.m * ase.units.m)  # convert from amu*Angstroms^2 to kg*m^2\n",
    "rotational_temperatures = np.float_power(h, 2.0) / (8.0 * np.pi * np.pi * I * kb)\n",
    "rotational_symmetry = 1.0\n",
    "qHHO_rot = 1.0 / rotational_symmetry * np.sqrt(np.pi * np.float_power(T, 3) / np.prod(rotational_temperatures))\n",
    "# qHHO_rot = 0.0875\n",
    "print(qHHO_rot)\n",
    "\n",
    "\n",
    "# Vibration\n",
    "vib_freqs_per_cm = np.array([508.8, 1608.91])  # cm ^ -1 \n",
    "freq_correction = 0.982\n",
    "vib_freqs_per_cm *= freq_correction\n",
    "vib_freqs = c * vib_freqs_per_cm  # frequencies should be on the order of 10^12\n",
    "vib_temps = h * vib_freqs / kb  # matches Gaussian log\n",
    "print(vib_temps)\n",
    "E_zp = np.exp(-0.5 * h * np.sum(vib_freqs) / (kb * T))\n",
    "\n",
    "qHHO_vib = E_zp\n",
    "qHHO_vib = 1\n",
    "for i in range(0, len(vib_temps)):\n",
    "    qHHO_vib = np.multiply(qHHO_vib, 1.0 / (1.0 - np.exp(-vib_temps[i] / T)))\n",
    "\n",
    "\n",
    "qHHO_elec = 3\n",
    "\n",
    "qHHO = qHHO_trans * qHHO_elec * qHHO_rot * qHHO_vib"
   ]
  },
  {
   "cell_type": "code",
   "execution_count": 18,
   "id": "4d9f67b2",
   "metadata": {},
   "outputs": [
    {
     "name": "stdout",
     "output_type": "stream",
     "text": [
      "[3.05217687e+06 3.78595931e+06 4.61651994e+06 5.54777705e+06\n",
      " 6.58350195e+06 7.72733433e+06 8.98279523e+06 1.03532979e+07\n",
      " 1.18421570e+07 1.34525971e+07 1.51877591e+07 1.70507069e+07\n",
      " 1.90444325e+07 2.11718609e+07 2.34358546e+07 2.58392172e+07\n",
      " 2.83846970e+07 3.10749902e+07 3.39127436e+07 3.69005572e+07\n",
      " 4.00409871e+07 4.33365470e+07 4.67897104e+07 5.04029129e+07\n",
      " 5.41785533e+07 5.81189955e+07 6.22265702e+07 6.65035758e+07\n",
      " 7.09522801e+07 7.55749211e+07 8.03737085e+07 8.53508248e+07\n",
      " 9.05084258e+07 9.58486421e+07 1.01373579e+08 1.07085320e+08\n",
      " 1.12985923e+08 1.19077426e+08 1.25361844e+08 1.31841171e+08\n",
      " 1.38517383e+08 1.45392433e+08 1.52468258e+08 1.59746775e+08\n",
      " 1.67229884e+08 1.74919466e+08 1.82817386e+08 1.90925493e+08\n",
      " 1.99245618e+08 2.07779578e+08 2.16529175e+08 2.25496195e+08\n",
      " 2.34682409e+08 2.44089575e+08 2.53719436e+08 2.63573723e+08\n",
      " 2.73654153e+08 2.83962430e+08 2.94500244e+08 3.05269275e+08\n",
      " 3.16271190e+08 3.27507643e+08 3.38980278e+08 3.50690727e+08\n",
      " 3.62640611e+08 3.74831539e+08 3.87265112e+08 3.99942917e+08\n",
      " 4.12866534e+08 4.26037531e+08 4.39457467e+08 4.53127890e+08\n",
      " 4.67050339e+08 4.81226346e+08 4.95657431e+08 5.10345105e+08\n",
      " 5.25290872e+08 5.40496226e+08 5.55962652e+08 5.71691629e+08\n",
      " 5.87684624e+08 6.03943100e+08 6.20468508e+08 6.37262295e+08\n",
      " 6.54325897e+08 6.71660744e+08 6.89268258e+08 7.07149855e+08\n",
      " 7.25306941e+08 7.43740917e+08 7.62453177e+08 7.81445106e+08\n",
      " 8.00718086e+08 8.20273487e+08 8.40112678e+08 8.60237016e+08\n",
      " 8.80647856e+08 9.01346545e+08 9.22334422e+08 9.43612822e+08\n",
      " 9.65183074e+08]\n",
      "[0.08834687 0.10053816 0.11324373 0.12644357 0.14011981 0.15425639\n",
      " 0.1688388  0.18385378 0.19928923 0.21513399 0.23137774 0.24801091\n",
      " 0.26502459 0.28241045 0.3001607  0.31826799 0.33672542 0.35552648\n",
      " 0.37466498 0.39413509 0.41393125 0.43404817 0.45448082 0.4752244\n",
      " 0.49627431 0.51762615 0.53927572 0.56121898 0.58345204 0.60597118\n",
      " 0.62877281 0.65185347 0.67520983 0.69883867 0.72273688 0.74690147\n",
      " 0.77132952 0.79601823 0.82096487 0.8461668  0.87162146 0.89732637\n",
      " 0.92327912 0.94947735 0.97591879 1.00260123 1.02952251 1.05668052\n",
      " 1.08407322 1.11169862 1.13955476 1.16763977 1.19595178 1.224489\n",
      " 1.25324965 1.28223201 1.31143441 1.34085519 1.37049275 1.40034552\n",
      " 1.43041194 1.46069053 1.49117978 1.52187828 1.55278458 1.58389732\n",
      " 1.61521512 1.64673666 1.67846062 1.71038573 1.74251071 1.77483435\n",
      " 1.80735541 1.84007272 1.8729851  1.90609139 1.93939049 1.97288126\n",
      " 2.00656263 2.04043351 2.07449287 2.10873964 2.14317283 2.17779142\n",
      " 2.21259443 2.24758088 2.28274981 2.3181003  2.3536314  2.3893422\n",
      " 2.42523181 2.46129933 2.4975439  2.53396466 2.57056075 2.60733134\n",
      " 2.6442756  2.68139273 2.71868192 2.75614238 2.79377333]\n",
      "[1.10074539 1.12591399 1.15294313 1.1816561  1.21191857 1.24362837\n",
      " 1.27670723 1.31109447 1.34674229 1.38361229 1.42167307 1.46089841\n",
      " 1.50126603 1.54275664 1.58535335 1.62904116 1.67380658 1.71963745\n",
      " 1.76652268 1.81445211 1.86341644 1.91340704 1.96441598 2.0164359\n",
      " 2.06945995 2.12348178 2.17849549 2.23449556 2.29147685 2.34943459\n",
      " 2.40836428 2.46826174 2.52912305 2.59094454 2.65372279 2.71745457\n",
      " 2.78213685 2.84776679 2.91434175 2.98185919 3.05031678 3.11971228\n",
      " 3.19004361 3.2613088  3.33350599 3.40663343 3.48068945 3.5556725\n",
      " 3.6315811  3.70841383 3.78616939 3.86484651 3.94444401 4.02496075\n",
      " 4.10639567 4.18874774 4.27201601 4.35619955 4.4412975  4.52730902\n",
      " 4.61423332 4.70206966 4.7908173  4.88047557 4.97104382 5.06252143\n",
      " 5.15490779 5.24820234 5.34240455 5.43751388 5.53352985 5.63045198\n",
      " 5.72827981 5.82701291 5.92665086 6.02719327 6.12863974 6.23098992\n",
      " 6.33424345 6.43839998 6.5434592  6.64942079 6.75628445 6.86404989\n",
      " 6.97271684 7.08228502 7.19275418 7.30412407 7.41639446 7.52956511\n",
      " 7.6436358  7.75860631 7.87447645 7.99124601 8.10891481 8.22748265\n",
      " 8.34694935 8.46731475 8.58857868 8.71074098 8.83380149]\n",
      "[5.06163479e+08 4.63361824e+00 4.63361820e+00]\n",
      "[ 718.87301911 2273.19573344]\n",
      "[1.49788783e+13 4.73656980e+13]\n"
     ]
    }
   ],
   "source": [
    "print(qHHO_trans)\n",
    "print(qHHO_rot)\n",
    "print(qHHO_vib)\n",
    "print(rotational_temperatures)\n",
    "print(vib_temps)\n",
    "print(vib_freqs)"
   ]
  },
  {
   "cell_type": "markdown",
   "id": "9fce14d6",
   "metadata": {},
   "source": [
    "### Activation Energy $E_a = E_{TS} - E_{IS}$\n",
    "\n",
    "$E_{TS}$ = \n",
    "$E_{IS}$\n"
   ]
  },
  {
   "cell_type": "code",
   "execution_count": 19,
   "id": "26a7e0b3",
   "metadata": {},
   "outputs": [],
   "source": [
    "def read_energy(logfile):\n",
    "    with open(logfile, 'r') as f:\n",
    "        for line in f:\n",
    "            if 'Sum of electronic and zero-point Energies= ' in line:\n",
    "                energy = float(line.split()[-1])\n",
    "                return energy\n",
    "    return 0"
   ]
  },
  {
   "cell_type": "code",
   "execution_count": 20,
   "id": "b13da23a",
   "metadata": {},
   "outputs": [],
   "source": [
    "# Read it in from the logfile\n",
    "E_HHO = read_energy(HHO_log)\n",
    "E_H2 = read_energy(H2_log)\n",
    "O_log = \"/work/westgroup/harris.se/autoscience/autoscience_workflow/results/dft/thermo/species_0008/arkane/conformer_0000.log\"\n",
    "E_O = read_energy(O_log)"
   ]
  },
  {
   "cell_type": "code",
   "execution_count": 21,
   "id": "0748ac17",
   "metadata": {},
   "outputs": [],
   "source": [
    "Ea = (E_HHO - (E_O + E_H2)) * 2625.5  # convert from Hartree to kJ/mol"
   ]
  },
  {
   "cell_type": "code",
   "execution_count": null,
   "id": "38fb0ffb",
   "metadata": {},
   "outputs": [],
   "source": []
  },
  {
   "cell_type": "code",
   "execution_count": 22,
   "id": "d90b1992",
   "metadata": {},
   "outputs": [],
   "source": [
    "# ts_log = \"/work/westgroup/harris.se/autoscience/autoscience_workflow/workflow/scripts/kinetics/HHF/ts6.log\"\n",
    "# with open(ts_log, 'r') as f:\n",
    "#     ts = ase.io.gaussian.read_gaussian_out(f)\n",
    "# reactants_log = \"/work/westgroup/harris.se/autoscience/autoscience_workflow/workflow/scripts/kinetics/HHF_2/reactants_far.log\"\n",
    "# with open(reactants_log, 'r') as f:\n",
    "#     reactants = ase.io.gaussian.read_gaussian_out(f)"
   ]
  },
  {
   "cell_type": "code",
   "execution_count": 23,
   "id": "121e797d",
   "metadata": {},
   "outputs": [],
   "source": [
    "# gcalc = ase.calculators.gaussian.Gaussian(\n",
    "#     label='ts/gaussian',\n",
    "#     xc='B3LYP',\n",
    "#     basis='6-311G',\n",
    "#     scf='maxcycle=100',\n",
    "#     mult=2,\n",
    "# )\n",
    "# ts.calc = gcalc\n",
    "# E_ts = ts.get_potential_energy()\n",
    "# print(E_ts)\n",
    "\n",
    "# gcalc = ase.calculators.gaussian.Gaussian(\n",
    "#     label='reactants_far/gaussian',\n",
    "#     xc='B3LYP',\n",
    "#     basis='6-311G',\n",
    "#     scf='maxcycle=100',\n",
    "#     mult=2,\n",
    "# )\n",
    "# reactants.calc = gcalc\n",
    "# E_r = reactants.get_potential_energy()\n",
    "# print(E_r)"
   ]
  },
  {
   "cell_type": "code",
   "execution_count": null,
   "id": "9b80c236",
   "metadata": {},
   "outputs": [],
   "source": []
  },
  {
   "cell_type": "code",
   "execution_count": 24,
   "id": "a9fbc9a2",
   "metadata": {},
   "outputs": [],
   "source": [
    "# hhf_atoms.calc.results"
   ]
  },
  {
   "cell_type": "code",
   "execution_count": 25,
   "id": "8d3aa366",
   "metadata": {},
   "outputs": [],
   "source": [
    "# gcalc = ase.calculators.gaussian.Gaussian(\n",
    "# #     label='hhf/gaussian',\n",
    "#     xc='B3LYP',\n",
    "#     basis='6-311G',\n",
    "#     scf='maxcycle=100',\n",
    "#     mult=2,\n",
    "# )\n",
    "# hhf_atoms.calc = gcalc\n",
    "# E_hhf = hhf_atoms.get_potential_energy()\n",
    "# print(E_hhf)"
   ]
  },
  {
   "cell_type": "code",
   "execution_count": 26,
   "id": "5ef0af79",
   "metadata": {},
   "outputs": [],
   "source": [
    "# gcalc = ase.calculators.gaussian.Gaussian(\n",
    "# #     label='h2/gaussian',\n",
    "#     xc='B3LYP',\n",
    "#     basis='6-311G',\n",
    "#     scf='maxcycle=100',\n",
    "#     mult=1,\n",
    "# )\n",
    "# h2_atoms.calc = gcalc\n",
    "# E_h2 = h2_atoms.get_potential_energy()\n",
    "# print(E_h2)"
   ]
  },
  {
   "cell_type": "code",
   "execution_count": 27,
   "id": "0d595202",
   "metadata": {},
   "outputs": [],
   "source": [
    "# f_atoms = ase.Atoms('F')\n",
    "# gcalc = ase.calculators.gaussian.Gaussian(\n",
    "#     label='f/gaussian',\n",
    "#     xc='B3LYP',\n",
    "#     basis='6-311G',\n",
    "#     scf='maxcycle=100',\n",
    "#     mult=2,\n",
    "# )\n",
    "# f_atoms.calc = gcalc\n",
    "# E_f = f_atoms.get_potential_energy()\n",
    "# print(E_f)"
   ]
  },
  {
   "cell_type": "code",
   "execution_count": 28,
   "id": "bbd78638",
   "metadata": {},
   "outputs": [],
   "source": [
    "# E_a = (E_hhf - (E_h2 + E_f)) * 96.4869\n",
    "# print(E_a)\n"
   ]
  },
  {
   "cell_type": "code",
   "execution_count": 30,
   "id": "97e76259",
   "metadata": {},
   "outputs": [
    {
     "data": {
      "text/plain": [
       "36.659856499973046"
      ]
     },
     "execution_count": 30,
     "metadata": {},
     "output_type": "execute_result"
    }
   ],
   "source": [
    "Ea\n",
    "# Do we have to recalculate Ea at different temperatures? I think I'm thinking of E0 from blowers masel or something"
   ]
  },
  {
   "cell_type": "markdown",
   "id": "8b670c23",
   "metadata": {},
   "source": [
    "### Compute $k_{TST}$\n",
    "\n",
    "$$k_{TST}=\\frac{k_BT}{h}\\cdot \\frac{Q^{TS}}{Q^{IS}}\\cdot e^{-\\frac{E_a}{k_BT}}$$"
   ]
  },
  {
   "cell_type": "code",
   "execution_count": 49,
   "id": "859d8dbb",
   "metadata": {},
   "outputs": [],
   "source": [
    "Ea = (E_HHO - (E_O + E_H2)) * 2625.5  # convert from Hartree to kJ/mol\n",
    "\n",
    "Q_IS = np.multiply(qH2, qO)\n",
    "\n",
    "# k_TST = np.multiply(np.divide(np.multiply(kb * T / h, qHHO), Q_IS), np.exp(-Ea / (kb * T)))\n",
    "k_TST = np.multiply(np.divide(np.multiply(kb * T / h, qHHO), Q_IS), np.exp(-Ea / (8.314 / 1000.0 * T)))\n",
    "\n",
    "k_primitive = 10 ** 13 * np.exp(-Ea / (8.314 / 1000.0 * T))"
   ]
  },
  {
   "cell_type": "code",
   "execution_count": null,
   "id": "e34b2047",
   "metadata": {},
   "outputs": [],
   "source": []
  },
  {
   "cell_type": "code",
   "execution_count": null,
   "id": "2f50a18f",
   "metadata": {},
   "outputs": [],
   "source": []
  },
  {
   "cell_type": "code",
   "execution_count": 45,
   "id": "94f95d8f",
   "metadata": {},
   "outputs": [],
   "source": [
    "# load the RMG database\n",
    "ref_lib = 'GRI-Mech3.0'\n",
    "ref_library_path = \"/home/harris.se/rmg/RMG-database/input/kinetics/\"\n",
    "ref_database = rmgpy.data.kinetics.KineticsDatabase()\n",
    "ref_database.load(\n",
    "    ref_library_path,\n",
    "    libraries=[\n",
    "        ref_lib,\n",
    "    ],\n",
    "    families=[],\n",
    ")"
   ]
  },
  {
   "cell_type": "code",
   "execution_count": 46,
   "id": "d8871b66",
   "metadata": {},
   "outputs": [
    {
     "name": "stdout",
     "output_type": "stream",
     "text": [
      "O + H2 <=> H + OH\n"
     ]
    }
   ],
   "source": [
    "# Find the reaction label\n",
    "reaction_label = 'O + H2 <=> H + OH'\n",
    "for key in ref_database.libraries[ref_lib].entries.keys():\n",
    "#     print(ref_database.libraries[ref_lib].entries[key].label)\n",
    "    if ref_database.libraries[ref_lib].entries[key].label == reaction_label:\n",
    "        print(ref_database.libraries[ref_lib].entries[key].label)\n",
    "        rmg_kinetics = ref_database.libraries[ref_lib].entries[key].data\n",
    "        break"
   ]
  },
  {
   "cell_type": "code",
   "execution_count": null,
   "id": "ab0474f7",
   "metadata": {},
   "outputs": [],
   "source": []
  },
  {
   "cell_type": "code",
   "execution_count": 36,
   "id": "ec7b74fd",
   "metadata": {},
   "outputs": [
    {
     "data": {
      "text/plain": [
       "2.6523165680000003"
      ]
     },
     "execution_count": 36,
     "metadata": {},
     "output_type": "execute_result"
    }
   ],
   "source": [
    "rmgpy.constants.R * 0.319"
   ]
  },
  {
   "cell_type": "code",
   "execution_count": 37,
   "id": "88b5903f",
   "metadata": {},
   "outputs": [
    {
     "data": {
      "text/plain": [
       "Arrhenius(A=(38700,'cm^3/(mol*s)'), n=2.7, Ea=(6260,'cal/mol'), T0=(1,'K'))"
      ]
     },
     "execution_count": 37,
     "metadata": {},
     "output_type": "execute_result"
    }
   ],
   "source": [
    "rmg_kinetics"
   ]
  },
  {
   "cell_type": "code",
   "execution_count": 38,
   "id": "c04a01e5",
   "metadata": {},
   "outputs": [],
   "source": [
    "Ea = rmg_kinetics.Ea.value * 4.184"
   ]
  },
  {
   "cell_type": "code",
   "execution_count": 39,
   "id": "f2a3bc89",
   "metadata": {},
   "outputs": [
    {
     "data": {
      "text/plain": [
       "26191.84"
      ]
     },
     "execution_count": 39,
     "metadata": {},
     "output_type": "execute_result"
    }
   ],
   "source": [
    "Ea"
   ]
  },
  {
   "cell_type": "code",
   "execution_count": 40,
   "id": "f0645c4e",
   "metadata": {},
   "outputs": [],
   "source": [
    "# # Compare to experimental values from here: https://srd.nist.gov/jpcrdreprint/1.555692.pdf\n",
    "# exp_kinetics = rmgpy.kinetics.arrhenius.Arrhenius()\n",
    "# exp_kinetics.A = rmgpy.quantity.RateCoefficient(2.7e12, 'cm^3/(mol*s)')\n",
    "# exp_kinetics.n = 0.5\n",
    "# exp_kinetics.Ea = rmgpy.quantity.Energy(rmgpy.constants.R * 0.319, 'kJ/mol')"
   ]
  },
  {
   "cell_type": "code",
   "execution_count": 52,
   "id": "67b2de5f",
   "metadata": {},
   "outputs": [
    {
     "name": "stdout",
     "output_type": "stream",
     "text": [
      "O + H2 <=> H + OH\n"
     ]
    },
    {
     "data": {
      "text/plain": [
       "<matplotlib.legend.Legend at 0x2b9fa416b310>"
      ]
     },
     "execution_count": 52,
     "metadata": {},
     "output_type": "execute_result"
    },
    {
     "data": {
      "image/png": "[encoded data removed]",
      "text/plain": [
       "<Figure size 432x288 with 1 Axes>"
      ]
     },
     "metadata": {
      "needs_background": "light"
     },
     "output_type": "display_data"
    }
   ],
   "source": [
    "%matplotlib inline\n",
    "# Make the Arrhenius plot using RMG\n",
    "print(ref_database.libraries[ref_lib].entries[key].label)\n",
    "ref_database.libraries[ref_lib].entries[key].data\n",
    "\n",
    "plt.xlabel('1/T ($K^{-1})$')\n",
    "plt.ylabel('ln(k)')\n",
    "plt.title('Reaction Rate vs. Inverse Temperature')\n",
    "T_ = np.linspace(300, 3000, 1001)\n",
    "T_inv = 1.0 / T_\n",
    "\n",
    "k_rmg = np.zeros(len(T_))\n",
    "k_exp = np.zeros(len(T_))\n",
    "for i in range(0, len(T_)):\n",
    "    k_rmg[i] = rmg_kinetics.get_rate_coefficient(T_[i])\n",
    "#     k_exp[i] = exp_kinetics.get_rate_coefficient(T_[i])\n",
    "plt.plot(T_inv, np.log(k_rmg), 1.0 / T, np.log(k_TST), 1.0 / T, np.log(k_primitive))\n",
    "plt.plot(1.0 / T, np.log(k_TST) + 1.0, 1.0 / T, np.log(k_TST) - 1.0, color='black', linestyle=':')\n",
    "# plt.plot( T, np.log(k_TST))\n",
    "plt.legend(['RMG', 'TST', 'A=10^13'])"
   ]
  },
  {
   "cell_type": "code",
   "execution_count": 53,
   "id": "75d2dc4b",
   "metadata": {},
   "outputs": [],
   "source": [
    "# I thought TST was supposed to strictly overestimate the rate..."
   ]
  },
  {
   "cell_type": "code",
   "execution_count": null,
   "id": "60577810",
   "metadata": {},
   "outputs": [],
   "source": []
  }
 ],
 "metadata": {
  "kernelspec": {
   "display_name": "Python 3 (ipykernel)",
   "language": "python",
   "name": "python3"
  },
  "language_info": {
   "codemirror_mode": {
    "name": "ipython",
    "version": 3
   },
   "file_extension": ".py",
   "mimetype": "text/x-python",
   "name": "python",
   "nbconvert_exporter": "python",
   "pygments_lexer": "ipython3",
   "version": "3.7.12"
  }
 },
 "nbformat": 4,
 "nbformat_minor": 5
}
