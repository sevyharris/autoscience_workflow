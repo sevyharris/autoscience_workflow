{
 "cells": [
  {
   "cell_type": "markdown",
   "id": "7e7b3238",
   "metadata": {},
   "source": [
    "# Kinetics from TST\n",
    "\n",
    "## Example for $F + H_2 \\rightleftharpoons H + HF$"
   ]
  },
  {
   "cell_type": "code",
   "execution_count": null,
   "id": "2ff55b14",
   "metadata": {},
   "outputs": [],
   "source": [
    "import numpy as np\n",
    "import matplotlib.pyplot as plt\n",
    "import matplotlib\n",
    "%matplotlib inline\n",
    "\n",
    "\n",
    "import rmgpy.data.kinetics\n",
    "import rmgpy.reaction"
   ]
  },
  {
   "cell_type": "code",
   "execution_count": null,
   "id": "94f95d8f",
   "metadata": {},
   "outputs": [],
   "source": [
    "# load the RMG database\n",
    "ref_lib = '2-BTP/full'\n",
    "ref_library_path = \"/home/harris.se/rmg/RMG-database/input/kinetics/\"\n",
    "ref_database = rmgpy.data.kinetics.KineticsDatabase()\n",
    "ref_database.load(\n",
    "    ref_library_path,\n",
    "    libraries=[\n",
    "        ref_lib,\n",
    "    ],\n",
    "    families=[],\n",
    ")"
   ]
  },
  {
   "cell_type": "code",
   "execution_count": null,
   "id": "d8871b66",
   "metadata": {},
   "outputs": [],
   "source": [
    "# Find the reaction label\n",
    "ref_lib = '2-BTP/full'\n",
    "reaction_label = 'H2 + F <=> H + HF'\n",
    "for key in ref_database.libraries[ref_lib].entries.keys():\n",
    "#     print(ref_database.libraries[ref_lib].entries[key].label)\n",
    "    if ref_database.libraries[ref_lib].entries[key].label == reaction_label:\n",
    "        print(ref_database.libraries[ref_lib].entries[key].label)\n",
    "        rmg_kinetics = ref_database.libraries[ref_lib].entries[key].data\n",
    "        break"
   ]
  },
  {
   "cell_type": "code",
   "execution_count": null,
   "id": "cde0592d",
   "metadata": {},
   "outputs": [],
   "source": [
    "import rmgpy.quantity\n",
    "import rmgpy.constants"
   ]
  },
  {
   "cell_type": "code",
   "execution_count": null,
   "id": "a131e9c7",
   "metadata": {},
   "outputs": [],
   "source": [
    "rmgpy.constants.kB"
   ]
  },
  {
   "cell_type": "code",
   "execution_count": null,
   "id": "6d2d6c9c",
   "metadata": {},
   "outputs": [],
   "source": [
    "# Compare to experimental values from here: https://srd.nist.gov/jpcrdreprint/1.555692.pdf\n",
    "exp_kinetics = rmgpy.kinetics.arrhenius.Arrhenius()\n",
    "exp_kinetics.A = rmgpy.quantity.RateCoefficient(2.7e12, 'cm^3/(mol*s)')\n",
    "exp_kinetics.n = 0.5\n",
    "exp_kinetics.Ea = rmgpy.quantity.Energy(rmgpy.constants.R * 0.319, 'kJ/mol')"
   ]
  },
  {
   "cell_type": "code",
   "execution_count": null,
   "id": "67b2de5f",
   "metadata": {},
   "outputs": [],
   "source": [
    "%matplotlib inline\n",
    "# Make the Arrhenius plot using RMG\n",
    "print(ref_database.libraries[ref_lib].entries[key].label)\n",
    "ref_database.libraries[ref_lib].entries[key].data\n",
    "\n",
    "plt.xlabel('1/T ($K^{-1})$')\n",
    "plt.ylabel('ln(k)')\n",
    "plt.title('Reaction Rate vs. Inverse Temperature')\n",
    "T_ = np.linspace(300, 3000, 1001)\n",
    "T_inv = 1.0 / T_\n",
    "\n",
    "k_rmg = np.zeros(len(T_))\n",
    "k_exp = np.zeros(len(T_))\n",
    "for i in range(0, len(T_)):\n",
    "    k_rmg[i] = rmg_kinetics.get_rate_coefficient(T_[i])\n",
    "    k_exp[i] = exp_kinetics.get_rate_coefficient(T_[i])\n",
    "plt.plot(T_inv, np.log(k_rmg), T_inv, np.log(k_exp))\n",
    "plt.legend(['RMG', 'Cohen Westberg'])"
   ]
  },
  {
   "cell_type": "code",
   "execution_count": null,
   "id": "0f718320",
   "metadata": {},
   "outputs": [],
   "source": []
  }
 ],
 "metadata": {
  "kernelspec": {
   "display_name": "Python 3 (ipykernel)",
   "language": "python",
   "name": "python3"
  },
  "language_info": {
   "codemirror_mode": {
    "name": "ipython",
    "version": 3
   },
   "file_extension": ".py",
   "mimetype": "text/x-python",
   "name": "python",
   "nbconvert_exporter": "python",
   "pygments_lexer": "ipython3",
   "version": "3.7.12"
  }
 },
 "nbformat": 4,
 "nbformat_minor": 5
}
