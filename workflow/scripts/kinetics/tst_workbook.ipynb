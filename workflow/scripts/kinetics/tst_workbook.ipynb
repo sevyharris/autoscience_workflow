{
 "cells": [
  {
   "cell_type": "code",
   "execution_count": 1,
   "id": "a7165ee4",
   "metadata": {},
   "outputs": [
    {
     "name": "stderr",
     "output_type": "stream",
     "text": [
      "utils.py:147 _init_num_threads INFO Note: NumExpr detected 48 cores but \"NUMEXPR_MAX_THREADS\" not set, so enforcing safe limit of 8.\n",
      "utils.py:159 _init_num_threads INFO NumExpr defaulting to 8 threads.\n"
     ]
    }
   ],
   "source": [
    "import os\n",
    "\n",
    "import rmgpy.species\n",
    "import rmgpy.chemkin\n",
    "\n",
    "import autotst.species\n",
    "import autotst.reaction\n",
    "import autotst.calculator.gaussian\n",
    "\n",
    "import pandas as pd\n",
    "\n",
    "import logging\n",
    "from hotbit import Hotbit\n",
    "\n",
    "import ase.calculators.lj\n",
    "\n",
    "import ase.io\n",
    "import glob\n",
    "import job_manager"
   ]
  },
  {
   "cell_type": "code",
   "execution_count": 2,
   "id": "8cf363b5",
   "metadata": {},
   "outputs": [],
   "source": [
    "def get_label(rmg_rxn):\n",
    "    label = ''\n",
    "    for reactant in rmg_rxn.reactants:\n",
    "        label += f'{reactant.smiles}+'\n",
    "    label = label[:-1]\n",
    "    label += '_'\n",
    "    for product in rmg_rxn.products:\n",
    "        label += f'{product.smiles}+'\n",
    "    label = label[:-1]\n",
    "    return label"
   ]
  },
  {
   "cell_type": "code",
   "execution_count": 3,
   "id": "ce3c4bd6",
   "metadata": {},
   "outputs": [],
   "source": [
    "def reaction2SMILES(reaction):\n",
    "    string = \"\"\n",
    "    for react in reaction.reactants:\n",
    "        if isinstance(react, rmgpy.species.Species):\n",
    "            string += f\"{react.molecule[0].to_smiles()}+\"\n",
    "        elif isinstance(react, rmgpy.molecule.Molecule):\n",
    "            string += f\"{react.to_smiles()}+\"\n",
    "    string = string[:-1]\n",
    "    string += \"_\"\n",
    "    for prod in reaction.products:\n",
    "        if isinstance(prod, rmgpy.species.Species):\n",
    "            string += f\"{prod.molecule[0].to_smiles()}+\"\n",
    "        elif isinstance(prod, rmgpy.molecule.Molecule):\n",
    "            string += f\"{prod.to_smiles()}+\"\n",
    "    label = string[:-1]\n",
    "    return label"
   ]
  },
  {
   "cell_type": "code",
   "execution_count": 4,
   "id": "f0a84599",
   "metadata": {},
   "outputs": [
    {
     "name": "stdout",
     "output_type": "stream",
     "text": [
      "[H][H]+[O]_[H]+[OH]\n"
     ]
    }
   ],
   "source": [
    "try:\n",
    "    DFT_DIR = os.environ['DFT_DIR']\n",
    "except KeyError:\n",
    "    DFT_DIR = '/work/westgroup/harris.se/autoscience/autoscience_workflow/results/dft'\n",
    "\n",
    "\n",
    "reaction_index = 1\n",
    "# reaction_index = 168\n",
    "# reaction_index = int(sys.argv[1])\n",
    "# print(f'Reaction index is {reaction_index}')\n",
    "\n",
    "\n",
    "# Load the species from the official species list\n",
    "# scripts_dir = os.path.dirname(__file__)\n",
    "scripts_dir = '/work/westgroup/harris.se/autoscience/autoscience_workflow/workflow/scripts'\n",
    "reaction_csv = os.path.join(scripts_dir, '..', '..', 'resources', 'reaction_list.csv')\n",
    "reaction_df = pd.read_csv(reaction_csv)\n",
    "\n",
    "\n",
    "reaction_smiles = reaction_df.SMILES[reaction_index]\n",
    "print(reaction_smiles)"
   ]
  },
  {
   "cell_type": "code",
   "execution_count": 5,
   "id": "abf0cc24",
   "metadata": {},
   "outputs": [],
   "source": [
    "reaction = autotst.reaction.Reaction(label=reaction_smiles)"
   ]
  },
  {
   "cell_type": "code",
   "execution_count": 6,
   "id": "86352bac",
   "metadata": {},
   "outputs": [
    {
     "name": "stdout",
     "output_type": "stream",
     "text": [
      "<Reaction \"[H][H]+[O]_[H]+[OH]\">\n"
     ]
    }
   ],
   "source": [
    "print(reaction)"
   ]
  },
  {
   "cell_type": "code",
   "execution_count": null,
   "id": "1b17dcbc",
   "metadata": {},
   "outputs": [],
   "source": []
  },
  {
   "cell_type": "code",
   "execution_count": 7,
   "id": "401499b2",
   "metadata": {},
   "outputs": [
    {
     "name": "stderr",
     "output_type": "stream",
     "text": [
      "reaction.py:167 load_databases INFO Loading RMG database from '/home/harris.se/rmg/RMG-database/input'\n",
      "transport.py:294 load_groups INFO Loading transport group database from /home/harris.se/rmg/RMG-database/input/transport/groups...\n",
      "statmech.py:541 load_libraries INFO Loading frequencies library from halogens_G4.py in /home/harris.se/rmg/RMG-database/input/statmech/libraries...\n",
      "statmech.py:555 load_groups INFO Loading frequencies group database from /home/harris.se/rmg/RMG-database/input/statmech/groups...\n",
      "thermo.py:939 load_libraries INFO Loading thermodynamics library from primaryThermoLibrary.py in /home/harris.se/rmg/RMG-database/input/thermo/libraries...\n",
      "thermo.py:939 load_libraries INFO Loading thermodynamics library from thermo_DFT_CCSDTF12_BAC.py in /home/harris.se/rmg/RMG-database/input/thermo/libraries...\n",
      "thermo.py:939 load_libraries INFO Loading thermodynamics library from CBS_QB3_1dHR.py in /home/harris.se/rmg/RMG-database/input/thermo/libraries...\n",
      "thermo.py:970 load_groups INFO Loading thermodynamics group database from /home/harris.se/rmg/RMG-database/input/thermo/groups...\n",
      "base.py:212 load INFO Loading transitions state family groups from /work/westgroup/harris.se/AutoTST/database/R_Addition_MultipleBond/TS_groups.py\n",
      "base.py:212 load INFO Loading transitions state family groups from /work/westgroup/harris.se/AutoTST/database/H_Abstraction/TS_groups.py\n",
      "base.py:212 load INFO Loading transitions state family groups from /work/westgroup/harris.se/AutoTST/database/intra_H_migration/TS_groups.py\n",
      "reaction.py:340 get_labeled_reaction INFO Trying to match reacction to <ReactionFamily \"H_Abstraction\">\n",
      "reaction.py:368 get_labeled_reaction INFO Matched reaction to H_Abstraction family\n",
      "reaction.py:340 get_labeled_reaction INFO Trying to match reacction to <ReactionFamily \"R_Addition_MultipleBond\">\n",
      "reaction.py:340 get_labeled_reaction INFO Trying to match reacction to <ReactionFamily \"intra_H_migration\">\n",
      "reaction.py:351 get_labeled_reaction ERROR Couldn't match <Molecule \"[H][H]\"> + <Molecule \"[O]\"> <=> <Molecule \"[H]\"> + <Molecule \"[OH]\"> to intra_H_migration, trying different combination...\n",
      "reaction.py:340 get_labeled_reaction INFO Trying to match reacction to <ReactionFamily \"H_Abstraction\">\n",
      "reaction.py:368 get_labeled_reaction INFO Matched reaction to H_Abstraction family\n",
      "reaction.py:340 get_labeled_reaction INFO Trying to match reacction to <ReactionFamily \"R_Addition_MultipleBond\">\n",
      "reaction.py:340 get_labeled_reaction INFO Trying to match reacction to <ReactionFamily \"intra_H_migration\">\n",
      "reaction.py:351 get_labeled_reaction ERROR Couldn't match <Molecule \"[H][H]\"> + <Molecule \"[O]\"> <=> <Molecule \"[H]\"> + <Molecule \"[OH]\"> to intra_H_migration, trying different combination...\n",
      "reaction.py:259 generate_distance_data INFO Distance between *1 and *3 is too small, setting it to lower bound of uncertainty\n",
      "reaction.py:263 generate_distance_data INFO The distance data is as follows: DistanceData(distances={'d12': 0.881789,'d13': 2.011823,'d23': 1.234781,}, uncertainties={'d12': 0.269354,'d13': 0.210315,'d23': 0.328225,}, comment='Matched node H2 ([<Entry index=3 label=\"H2\">, <Entry index=226 label=\"Csj/Cs/Cs/Cs\">])\\nMatched node O_atom_triplet ([<Entry index=126 label=\"C/H2/Cd/Cd\">, <Entry index=16 label=\"O_atom_triplet\">])\\n')\n",
      "RDKit WARNING: [19:00:33] WARNING: not removing hydrogen atom without neighbors\n",
      "[19:00:33] WARNING: not removing hydrogen atom without neighbors\n",
      "reaction.py:755 get_rdkit_mol WARNING Danger zone get rdkit mol\n",
      "reaction.py:758 get_rdkit_mol WARNING Danger zone got rdkit mol\n",
      "reaction.py:764 get_rdkit_mol WARNING Danger zone got atom numbers\n",
      "reaction.py:766 get_rdkit_mol INFO Initially embedded molecule\n",
      "reaction.py:772 get_rdkit_mol INFO Getting bounds matrix\n",
      "reaction.py:795 get_bounds_matrix WARNING About to fail\n",
      "reaction.py:797 get_bounds_matrix WARNING Doesn't get here\n",
      "reaction.py:776 get_rdkit_mol WARNING Danger zone got bounds matrxc\n",
      "reaction.py:779 get_rdkit_mol INFO Editing bounds matrix\n",
      "reaction.py:812 set_limits INFO For atoms 1 and 2 we have a distance of: \t 0.881789\n",
      "reaction.py:812 set_limits INFO For atoms 2 and 0 we have a distance of: \t 1.234781\n",
      "reaction.py:812 set_limits INFO For atoms 1 and 0 we have a distance of: \t 2.0118225000000005\n",
      "reaction.py:782 get_rdkit_mol INFO Performing triangle smoothing on bounds matrix.\n",
      "reaction.py:785 get_rdkit_mol INFO Now attempting to embed using edited bounds matrix.\n",
      "reaction.py:786 get_rdkit_mol WARNING Danger zone about to embed\n"
     ]
    },
    {
     "data": {
      "text/plain": [
       "(<rdkit.Chem.rdchem.Mol at 0x2b206f8d2350>, Atoms(symbols='OH2', pbc=False))"
      ]
     },
     "execution_count": 7,
     "metadata": {},
     "output_type": "execute_result"
    }
   ],
   "source": [
    "reaction.ts['forward'][0].get_molecules()"
   ]
  },
  {
   "cell_type": "code",
   "execution_count": 8,
   "id": "97c65914",
   "metadata": {},
   "outputs": [
    {
     "name": "stdout",
     "output_type": "stream",
     "text": [
      "O       1.068600000000000     -0.089100000000000      0.000000000000000\n",
      "H      -0.933500000000000     -0.128600000000000      0.000000000000000\n",
      "H      -0.135100000000000      0.217700000000000      0.000000000000000\n",
      "\n"
     ]
    }
   ],
   "source": [
    "print(reaction.ts['forward'][0].get_xyz_block())"
   ]
  },
  {
   "cell_type": "code",
   "execution_count": 9,
   "id": "6cd1739f",
   "metadata": {},
   "outputs": [],
   "source": [
    "# reaction.ts_databases['H_Abstraction'].estimate_distances(reaction.rmg_reaction).distances"
   ]
  },
  {
   "cell_type": "code",
   "execution_count": 10,
   "id": "8fc30ed8",
   "metadata": {},
   "outputs": [
    {
     "name": "stderr",
     "output_type": "stream",
     "text": [
      "reaction.py:340 get_labeled_reaction INFO Trying to match reacction to <ReactionFamily \"H_Abstraction\">\n",
      "reaction.py:368 get_labeled_reaction INFO Matched reaction to H_Abstraction family\n",
      "reaction.py:340 get_labeled_reaction INFO Trying to match reacction to <ReactionFamily \"R_Addition_MultipleBond\">\n",
      "reaction.py:340 get_labeled_reaction INFO Trying to match reacction to <ReactionFamily \"intra_H_migration\">\n",
      "reaction.py:351 get_labeled_reaction ERROR Couldn't match <Molecule \"[H][H]\"> + <Molecule \"[O]\"> <=> <Molecule \"[H]\"> + <Molecule \"[OH]\"> to intra_H_migration, trying different combination...\n"
     ]
    },
    {
     "data": {
      "text/plain": [
       "(TemplateReaction(reactants=[Molecule(smiles=\"[H][H]\"), Molecule(smiles=\"[O]\")], products=[Molecule(smiles=\"[OH]\"), Molecule(smiles=\"[H]\")], pairs=[[Molecule(smiles=\"[O]\"), Molecule(smiles=\"[OH]\")], [Molecule(smiles=\"[H][H]\"), Molecule(smiles=\"[H]\")]], family='H_Abstraction', template=['H2', 'O_atom_triplet']),\n",
       " 'H_Abstraction')"
      ]
     },
     "execution_count": 10,
     "metadata": {},
     "output_type": "execute_result"
    }
   ],
   "source": [
    "reaction.get_labeled_reaction()"
   ]
  },
  {
   "cell_type": "code",
   "execution_count": 11,
   "id": "2592c1e3",
   "metadata": {},
   "outputs": [
    {
     "name": "stdout",
     "output_type": "stream",
     "text": [
      "O       1.068600000000000     -0.089100000000000      0.000000000000000\n",
      "H      -0.933500000000000     -0.128600000000000      0.000000000000000\n",
      "H      -0.135100000000000      0.217700000000000      0.000000000000000\n",
      "\n"
     ]
    }
   ],
   "source": [
    "print(reaction.ts['forward'][0].get_xyz_block())"
   ]
  },
  {
   "cell_type": "code",
   "execution_count": null,
   "id": "f99513f2",
   "metadata": {},
   "outputs": [],
   "source": [
    "print(reaction.ts['reverse'][0].get_xyz_block())"
   ]
  },
  {
   "cell_type": "code",
   "execution_count": null,
   "id": "d31bfa18",
   "metadata": {},
   "outputs": [],
   "source": [
    "print(reaction.rmg_reaction)\n",
    "print(reaction.rmg_reaction.family)"
   ]
  },
  {
   "cell_type": "code",
   "execution_count": null,
   "id": "97b158bc",
   "metadata": {},
   "outputs": [],
   "source": [
    "reaction.get_rmg_complexes()"
   ]
  },
  {
   "cell_type": "code",
   "execution_count": null,
   "id": "67061d09",
   "metadata": {},
   "outputs": [],
   "source": [
    "# TODO handle multiple forward TS?\n",
    "# TODO also calculate reverse TS?\n",
    "# reaction.generate_conformers(ase_calculator=Hotbit())\n",
    "reaction.generate_conformers(ase_calculator=ase.calculators.lj.LennardJones())"
   ]
  },
  {
   "cell_type": "code",
   "execution_count": null,
   "id": "7005d979",
   "metadata": {},
   "outputs": [],
   "source": [
    "# These distances are way off. Why?\n",
    "print(reaction.ts['forward'][0].get_xyz_block())"
   ]
  },
  {
   "cell_type": "code",
   "execution_count": null,
   "id": "988bf7d4",
   "metadata": {},
   "outputs": [],
   "source": []
  },
  {
   "cell_type": "code",
   "execution_count": null,
   "id": "a58f5d71",
   "metadata": {},
   "outputs": [],
   "source": [
    "print(reaction.ts['reverse'][0].get_xyz_block())"
   ]
  },
  {
   "cell_type": "code",
   "execution_count": 21,
   "id": "9b4e2a1f",
   "metadata": {},
   "outputs": [],
   "source": [
    "reaction_base_dir = os.path.join(DFT_DIR, 'kinetics', f'reaction_{reaction_index:04}')\n",
    "os.makedirs(reaction_base_dir, exist_ok=True)"
   ]
  },
  {
   "cell_type": "code",
   "execution_count": null,
   "id": "0a14df53",
   "metadata": {},
   "outputs": [],
   "source": [
    "shell_dir = os.path.join(reaction_base_dir, 'shell')\n",
    "os.makedirs(shell_dir, exist_ok=True)\n",
    "# Do the shell calculation\n",
    "# write Gaussian input files\n",
    "for i, ts in enumerate(reaction.ts['forward']):\n",
    "    gaussian = autotst.calculator.gaussian.Gaussian(conformer=ts)\n",
    "    calc = gaussian.get_shell_calc()\n",
    "    calc.label = f'fwd_ts_{i:04}'\n",
    "\n",
    "    calc.directory = shell_dir\n",
    "    calc.parameters.pop('scratch')\n",
    "    calc.parameters.pop('multiplicity')\n",
    "    calc.parameters['mult'] = ts.rmg_molecule.multiplicity\n",
    "\n",
    "    calc.write_input(ts.ase_molecule)\n",
    "\n",
    "print(\"done\")"
   ]
  },
  {
   "cell_type": "code",
   "execution_count": null,
   "id": "6e02622b",
   "metadata": {},
   "outputs": [],
   "source": [
    "# make the shell slurm script\n",
    "slurm_run_file = os.path.join(shell_dir, 'run.sh')\n",
    "slurm_settings = {\n",
    "    '--job-name': f'g16_shell_{reaction_index}',\n",
    "    '--error': 'error.log',\n",
    "    '--output': 'output.log',\n",
    "    '--nodes': 1,\n",
    "    '--partition': 'west,short',\n",
    "    '--exclude': 'c5003',\n",
    "    '--mem': '20Gb',\n",
    "    '--time': '24:00:00',\n",
    "    '--cpus-per-task': 16,\n",
    "}\n",
    "\n",
    "slurm_file_writer = job_manager.SlurmJobFile(\n",
    "    full_path=slurm_run_file,\n",
    ")\n",
    "slurm_file_writer.settings = slurm_settings\n",
    "slurm_file_writer.content = [\n",
    "    'export GAUSS_SCRDIR=/scratch/harris.se/guassian_scratch\\n',\n",
    "    'mkdir -p $GAUSS_SCRDIR\\n',\n",
    "    'module load gaussian/g16\\n',\n",
    "    'source /shared/centos7/gaussian/g16/bsd/g16.profile\\n\\n',\n",
    "\n",
    "    f'g16 fwd_ts_{i:04}.com\\n',\n",
    "]\n",
    "slurm_file_writer.write_file()\n"
   ]
  },
  {
   "cell_type": "code",
   "execution_count": null,
   "id": "e21f22ff",
   "metadata": {},
   "outputs": [],
   "source": []
  },
  {
   "cell_type": "code",
   "execution_count": 12,
   "id": "e8a75af4",
   "metadata": {},
   "outputs": [],
   "source": [
    "import ase.io.gaussian"
   ]
  },
  {
   "cell_type": "code",
   "execution_count": 13,
   "id": "2b5aed52",
   "metadata": {},
   "outputs": [
    {
     "name": "stdout",
     "output_type": "stream",
     "text": [
      "O       1.068600000000000     -0.089100000000000      0.000000000000000\n",
      "H      -0.933500000000000     -0.128600000000000      0.000000000000000\n",
      "H      -0.135100000000000      0.217700000000000      0.000000000000000\n",
      "\n",
      "[[ 0.        0.581367  0.      ]\n",
      " [ 0.145204 -2.66399   0.      ]\n",
      " [-0.145204 -1.986949 -0.      ]]\n"
     ]
    }
   ],
   "source": [
    "# once the shell calculation is done, load the geometry and run the overall TS optimization\n",
    "shell_dir = '/work/westgroup/harris.se/autoscience/autoscience_workflow/results/dft/kinetics/reaction_0001/shell'\n",
    "shell_opt = os.path.join(shell_dir, 'fwd_ts_0000.log')\n",
    "print(reaction.ts['forward'][0].get_xyz_block())\n",
    "with open(shell_opt, 'r') as f:\n",
    "    atoms = ase.io.gaussian.read_gaussian_out(f)\n",
    "print(atoms.get_positions())"
   ]
  },
  {
   "cell_type": "code",
   "execution_count": 16,
   "id": "b911fffb",
   "metadata": {},
   "outputs": [
    {
     "data": {
      "text/plain": [
       "Atoms(symbols='OH2', pbc=False)"
      ]
     },
     "execution_count": 16,
     "metadata": {},
     "output_type": "execute_result"
    }
   ],
   "source": [
    "reaction.ts['forward'][0]._ase_molecule"
   ]
  },
  {
   "cell_type": "code",
   "execution_count": 14,
   "id": "c325c022",
   "metadata": {},
   "outputs": [],
   "source": [
    "from ase.visualize import view\n",
    "import matplotlib\n",
    "matplotlib.use('agg')"
   ]
  },
  {
   "cell_type": "code",
   "execution_count": null,
   "id": "1e03f665",
   "metadata": {},
   "outputs": [],
   "source": [
    "view(reaction.ts['forward'][0]._ase_molecule, viewer='ngl')"
   ]
  },
  {
   "cell_type": "code",
   "execution_count": null,
   "id": "eaa0dc1b",
   "metadata": {
    "scrolled": true
   },
   "outputs": [],
   "source": [
    "view(atoms, viewer='ngl')"
   ]
  },
  {
   "cell_type": "code",
   "execution_count": null,
   "id": "f163c1e8",
   "metadata": {},
   "outputs": [],
   "source": []
  },
  {
   "cell_type": "code",
   "execution_count": 18,
   "id": "65504df3",
   "metadata": {},
   "outputs": [
    {
     "name": "stdout",
     "output_type": "stream",
     "text": [
      "[[ 0.        0.581367  0.      ]\n",
      " [ 0.145204 -2.66399   0.      ]\n",
      " [-0.145204 -1.986949 -0.      ]]\n"
     ]
    }
   ],
   "source": [
    "# once the shell calculation is done, load the geometry and run the overall TS optimization\n",
    "shell_dir = '/work/westgroup/harris.se/autoscience/autoscience_workflow/results/dft/kinetics/reaction_0001/shell'\n",
    "shell_opt = os.path.join(shell_dir, 'shell_debug', 'fwd_ts_0000.log')\n",
    "with open(shell_opt, 'r') as f:\n",
    "    atoms2 = ase.io.gaussian.read_gaussian_out(f)\n",
    "print(atoms.get_positions())"
   ]
  },
  {
   "cell_type": "code",
   "execution_count": null,
   "id": "3f57a185",
   "metadata": {},
   "outputs": [],
   "source": [
    "view(atoms2, viewer='ngl')"
   ]
  },
  {
   "cell_type": "code",
   "execution_count": null,
   "id": "ebbff7ce",
   "metadata": {},
   "outputs": [],
   "source": [
    "# In theory, if all degrees of freedom haven't been frozen, then we read in the geometry\n",
    "# but for this simplistic case, proceed to the overall calculation"
   ]
  },
  {
   "cell_type": "code",
   "execution_count": 25,
   "id": "287f92d5",
   "metadata": {},
   "outputs": [
    {
     "name": "stdout",
     "output_type": "stream",
     "text": [
      "done\n"
     ]
    }
   ],
   "source": [
    "overall_dir = os.path.join(reaction_base_dir, 'overall')\n",
    "os.makedirs(overall_dir, exist_ok=True)\n",
    "# Do the shell calculation\n",
    "# write Gaussian input files\n",
    "for i, ts in enumerate(reaction.ts['forward']):\n",
    "    gaussian = autotst.calculator.gaussian.Gaussian(conformer=ts)\n",
    "    calc = gaussian.get_overall_calc()\n",
    "    calc.label = f'fwd_ts_{i:04}'\n",
    "\n",
    "    calc.directory = overall_dir\n",
    "    calc.parameters.pop('scratch')\n",
    "    calc.parameters.pop('multiplicity')\n",
    "    calc.parameters['mult'] = ts.rmg_molecule.multiplicity\n",
    "\n",
    "    calc.write_input(ts.ase_molecule)\n",
    "\n",
    "print(\"done\")"
   ]
  },
  {
   "cell_type": "code",
   "execution_count": 26,
   "id": "5713e5ea",
   "metadata": {},
   "outputs": [],
   "source": [
    "# make the overall slurm script\n",
    "slurm_run_file = os.path.join(overall_dir, 'run.sh')\n",
    "slurm_settings = {\n",
    "    '--job-name': f'ts_{reaction_index}',\n",
    "    '--error': 'error.log',\n",
    "    '--output': 'output.log',\n",
    "    '--nodes': 1,\n",
    "    '--partition': 'short',\n",
    "    '--mem': '20Gb',\n",
    "    '--time': '24:00:00',\n",
    "    '--cpus-per-task': 48,\n",
    "}\n",
    "\n",
    "slurm_file_writer = job_manager.SlurmJobFile(\n",
    "    full_path=slurm_run_file,\n",
    ")\n",
    "slurm_file_writer.settings = slurm_settings\n",
    "slurm_file_writer.content = [\n",
    "    'export GAUSS_SCRDIR=/scratch/harris.se/guassian_scratch\\n',\n",
    "    'mkdir -p $GAUSS_SCRDIR\\n',\n",
    "    'module load gaussian/g16\\n',\n",
    "    'source /shared/centos7/gaussian/g16/bsd/g16.profile\\n\\n',\n",
    "\n",
    "    f'g16 fwd_ts_{i:04}.com\\n',\n",
    "]\n",
    "slurm_file_writer.write_file()\n"
   ]
  },
  {
   "cell_type": "code",
   "execution_count": null,
   "id": "85ec7088",
   "metadata": {},
   "outputs": [],
   "source": []
  },
  {
   "cell_type": "code",
   "execution_count": null,
   "id": "72a66b18",
   "metadata": {},
   "outputs": [],
   "source": []
  },
  {
   "cell_type": "code",
   "execution_count": null,
   "id": "7259e03a",
   "metadata": {},
   "outputs": [],
   "source": [
    "\n",
    "spec = autotst.species.Species([species_smiles])\n",
    "\n",
    "print(f\"loaded species {species_smiles}\")\n",
    "thermo_base_dir = os.path.join(DFT_DIR, 'thermo')\n",
    "species_base_dir = os.path.join(thermo_base_dir, f'species_{species_index:04}')\n",
    "os.makedirs(species_base_dir, exist_ok=True)\n",
    "\n",
    "\n",
    "# generate conformers\n",
    "spec.generate_conformers(ase_calculator=Hotbit())\n",
    "n_conformers = len(spec.conformers[species_smiles])\n",
    "print(f'{n_conformers} found with Hotbit')\n"
   ]
  },
  {
   "cell_type": "code",
   "execution_count": null,
   "id": "1a678985",
   "metadata": {},
   "outputs": [],
   "source": [
    "# load the model\n",
    "chemkin_path = \"/home/harris.se/rmg/rmg_tools/uncertainty/nheptane/chem_annotated.inp\"\n",
    "dictionary_path = \"/home/harris.se/rmg/rmg_tools/uncertainty/nheptane/species_dictionary.txt\"\n",
    "transport_path = \"/home/harris.se/rmg/rmg_tools/uncertainty/nheptane/tran.dat\"\n",
    "species_list, reaction_list = rmgpy.chemkin.load_chemkin_file(\n",
    "    chemkin_path,\n",
    "    dictionary_path=dictionary_path,\n",
    "    transport_path=transport_path\n",
    ")\n",
    "print(f\"Loaded model with {len(species_list)} species and {len(reaction_list)} reactions\")\n",
    "\n",
    "\n",
    "rxn_idx = 186  # R recombo\n",
    "rxn_idx = 194\n",
    "rxn_idx = 274 # first H abstraction\n",
    "\n",
    "# rxn_idx = 236 another H abstraction\n",
    "\n"
   ]
  },
  {
   "cell_type": "code",
   "execution_count": null,
   "id": "382d04ee",
   "metadata": {},
   "outputs": [],
   "source": [
    "rmg_rxn = reaction_list[rxn_idx]\n",
    "print(rmg_rxn)\n",
    "print(rmg_rxn.family)"
   ]
  },
  {
   "cell_type": "code",
   "execution_count": null,
   "id": "ba2c07fd",
   "metadata": {},
   "outputs": [],
   "source": [
    "kinetics_base_dir = '/work/westgroup/harris.se/autoscience/autoscience_workflow/results/dft/kinetics'\n",
    "reaction_base_dir = os.path.join(kinetics_base_dir, f'reaction_{rxn_idx:04}')\n",
    "os.makedirs(kinetics_base_dir, exist_ok=True)"
   ]
  },
  {
   "cell_type": "code",
   "execution_count": null,
   "id": "388cda70",
   "metadata": {},
   "outputs": [],
   "source": [
    "# TODO fix reaction index\n"
   ]
  },
  {
   "cell_type": "code",
   "execution_count": null,
   "id": "be3c6f20",
   "metadata": {},
   "outputs": [],
   "source": [
    "label = get_label(rmg_rxn)\n",
    "print(\"label\", label)\n",
    "\n",
    "reaction = autotst.reaction.Reaction(label=label, rmg_reaction=rmg_rxn)\n",
    "print(\"reaction\", reaction)\n",
    "\n",
    "reaction.get_labeled_reaction()\n",
    "\n",
    "print(\"Got labeled reaction\")\n",
    "transition_states = reaction.ts[\"reverse\"]\n",
    "\n",
    "\n",
    "print(\"ts0\", transition_states[0])\n",
    "\n",
    "print(\"rxn.ts\", reaction.ts)\n",
    "print(\"About to start hotbit\")\n",
    "logging.warning(\"Danger zone 0\")\n",
    "# reaction.generate_conformers_all(ase_calculator=Hotbit())\n",
    "reaction.generate_conformers(ase_calculator=Hotbit())\n",
    "\n",
    "print(\"ran hotbit\")\n",
    "\n",
    "for ts in reaction.ts['forward']:\n",
    "    print(ts)\n",
    "\n",
    "\n",
    "# overall calc\n",
    "ts_dir = os.path.join(reaction_base_dir, 'ts')"
   ]
  },
  {
   "cell_type": "code",
   "execution_count": null,
   "id": "72e47c1f",
   "metadata": {},
   "outputs": [],
   "source": [
    "# write Gaussian input files\n",
    "for i, ts in enumerate(reaction.ts['forward']):\n",
    "    gaussian = autotst.calculator.gaussian.Gaussian(conformer=ts)\n",
    "    calc = gaussian.get_overall_calc()\n",
    "    calc.label = f'fwd_ts_{i:04}'\n",
    "\n",
    "    calc.directory = ts_dir\n",
    "    calc.parameters.pop('scratch')\n",
    "    calc.parameters.pop('multiplicity')\n",
    "    calc.parameters['mult'] = ts.rmg_molecule.multiplicity\n",
    "\n",
    "    calc.write_input(ts.ase_molecule)\n",
    "\n",
    "print(\"done\")"
   ]
  },
  {
   "cell_type": "code",
   "execution_count": null,
   "id": "acd778a3",
   "metadata": {},
   "outputs": [],
   "source": [
    "n_ts = len(reaction.ts['forward'])\n",
    "print(f'{n_ts} found with Hotbit')\n",
    "\n",
    "# Make a file to run Gaussian\n",
    "slurm_run_file = os.path.join(ts_dir, 'run.sh')\n",
    "slurm_settings = {\n",
    "    '--job-name': f'g16_ts_{rxn_idx}',\n",
    "    '--error': 'error.log',\n",
    "    '--output': 'output.log',\n",
    "    '--nodes': 1,\n",
    "    '--partition': 'west,short',\n",
    "    '--mem': '20Gb',\n",
    "    '--time': '24:00:00',\n",
    "    '--cpus-per-task': 16,\n",
    "    '--array': f'0-{n_conformers}%40',\n",
    "}\n",
    "\n",
    "slurm_file_writer = job_manager.SlurmJobFile(\n",
    "    full_path=slurm_run_file,\n",
    ")\n",
    "slurm_file_writer.settings = slurm_settings"
   ]
  },
  {
   "cell_type": "code",
   "execution_count": null,
   "id": "7486bba5",
   "metadata": {},
   "outputs": [],
   "source": [
    "slurm_file_writer.content = [\n",
    "    'export GAUSS_SCRDIR=/scratch/harris.se/guassian_scratch\\n',\n",
    "    'mkdir -p $GAUSS_SCRDIR\\n',\n",
    "    'module load gaussian/g16\\n',\n",
    "    'source /shared/centos7/gaussian/g16/bsd/g16.profile\\n\\n',\n",
    "\n",
    "    'RUN_i=$(printf \"%04.0f\" $(($SLURM_ARRAY_TASK_ID)))\\n',\n",
    "    'fname=\"fwd_ts_${RUN_i}.com\"\\n\\n',\n",
    "\n",
    "    'g16 $fname\\n',\n",
    "]\n",
    "slurm_file_writer.write_file()\n",
    "\n",
    "# submit the job\n",
    "gaussian_conformers_job = job_manager.SlurmJob()\n",
    "slurm_cmd = f\"sbatch {slurm_run_file}\"\n",
    "gaussian_conformers_job.submit(my_cmd)\n"
   ]
  }
 ],
 "metadata": {
  "kernelspec": {
   "display_name": "Python 3 (ipykernel)",
   "language": "python",
   "name": "python3"
  },
  "language_info": {
   "codemirror_mode": {
    "name": "ipython",
    "version": 3
   },
   "file_extension": ".py",
   "mimetype": "text/x-python",
   "name": "python",
   "nbconvert_exporter": "python",
   "pygments_lexer": "ipython3",
   "version": "3.7.12"
  }
 },
 "nbformat": 4,
 "nbformat_minor": 5
}
